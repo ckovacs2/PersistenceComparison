{
 "cells": [
  {
   "cell_type": "code",
   "execution_count": 1,
   "metadata": {},
   "outputs": [
    {
     "name": "stderr",
     "output_type": "stream",
     "text": [
      "/Users/voglab04/anaconda3/lib/python3.6/importlib/_bootstrap.py:219: RuntimeWarning: numpy.dtype size changed, may indicate binary incompatibility. Expected 96, got 88\n",
      "  return f(*args, **kwds)\n",
      "/Users/voglab04/anaconda3/lib/python3.6/importlib/_bootstrap.py:219: RuntimeWarning: numpy.dtype size changed, may indicate binary incompatibility. Expected 96, got 88\n",
      "  return f(*args, **kwds)\n",
      "/Users/voglab04/anaconda3/lib/python3.6/importlib/_bootstrap.py:219: RuntimeWarning: numpy.dtype size changed, may indicate binary incompatibility. Expected 96, got 88\n",
      "  return f(*args, **kwds)\n",
      "/Users/voglab04/anaconda3/lib/python3.6/importlib/_bootstrap.py:219: RuntimeWarning: numpy.dtype size changed, may indicate binary incompatibility. Expected 96, got 88\n",
      "  return f(*args, **kwds)\n"
     ]
    }
   ],
   "source": [
    "import qml\n",
    "import numpy as np\n",
    "from sklearn.preprocessing import MinMaxScaler\n",
    "from sklearn.model_selection import train_test_split"
   ]
  },
  {
   "cell_type": "code",
   "execution_count": 21,
   "metadata": {
    "collapsed": true
   },
   "outputs": [],
   "source": [
    "#mol = qml.Compound(xyz=\"1.xyz\")\n",
    "\n",
    "\n",
    "def periodicfunc(element):\n",
    "    \"\"\"\n",
    "    A function to output atomic number for each element in the periodic table\n",
    "    \"\"\"\n",
    "    f = open(\"pt.txt\")\n",
    "    atomicnum = [line.split()[1] for line in f if line.split()[0] == element]\n",
    "    f.close()\n",
    "    return int(atomicnum[0])\n",
    "\n",
    "def coulombmat(file,dim):\n",
    "    \"\"\"\n",
    "    This function takes in an xyz input file for a molecule, number of atoms in the biggest molecule  to computes the corresponding coulomb Matrix \n",
    "    \"\"\"\n",
    "    xyzfile=open(file)\n",
    "    xyzheader = int(xyzfile.readline())\n",
    "    xyzfile.close()\n",
    "    i=0 ; j=0    \n",
    "    cij=np.zeros((xyzheader,xyzheader))\n",
    "    chargearray = np.zeros((xyzheader,1))\n",
    "    xyzmatrix = np.loadtxt(file,skiprows=2,usecols=[1,2,3])\n",
    "    atominfoarray = np.loadtxt(file,skiprows=2,dtype=str,usecols=[0])\n",
    "    chargearray = [periodicfunc(symbol)  for symbol in atominfoarray]\n",
    "    \n",
    "    for i in range(xyzheader):\n",
    "        for j in range(xyzheader):\n",
    "            if i == j:\n",
    "                cij[i,j]=0.5*chargearray[i]**2.4   # Diagonal term described by Potential energy of isolated atom\n",
    "            else:\n",
    "                dist= np.linalg.norm(xyzmatrix[i,:] - xyzmatrix[j,:])              \n",
    "                cij[i,j]=chargearray[i]*chargearray[j]/dist   #Pair-wise repulsion \n",
    "    return  cij\n",
    "\n",
    "for i in range (1,101):\n",
    "    np.savetxt(str(i)+'_coulombmatrix.csv',coulombmat(str(i)+'.xyz',1),delimiter=\",\")"
   ]
  },
  {
   "cell_type": "code",
   "execution_count": 2,
   "metadata": {},
   "outputs": [
    {
     "name": "stdout",
     "output_type": "stream",
     "text": [
      "1.xyz\n",
      "2.xyz\n",
      "3.xyz\n",
      "4.xyz\n",
      "5.xyz\n",
      "6.xyz\n",
      "7.xyz\n",
      "8.xyz\n",
      "9.xyz\n",
      "10.xyz\n",
      "11.xyz\n",
      "12.xyz\n",
      "13.xyz\n",
      "14.xyz\n",
      "15.xyz\n",
      "16.xyz\n",
      "17.xyz\n",
      "18.xyz\n",
      "19.xyz\n",
      "20.xyz\n",
      "21.xyz\n",
      "22.xyz\n",
      "23.xyz\n",
      "24.xyz\n",
      "25.xyz\n",
      "26.xyz\n",
      "27.xyz\n",
      "28.xyz\n",
      "29.xyz\n",
      "30.xyz\n",
      "31.xyz\n",
      "32.xyz\n",
      "33.xyz\n",
      "34.xyz\n",
      "35.xyz\n",
      "36.xyz\n",
      "37.xyz\n",
      "38.xyz\n",
      "39.xyz\n",
      "40.xyz\n",
      "41.xyz\n",
      "42.xyz\n",
      "43.xyz\n",
      "44.xyz\n",
      "45.xyz\n",
      "46.xyz\n",
      "47.xyz\n",
      "48.xyz\n",
      "49.xyz\n",
      "50.xyz\n",
      "51.xyz\n",
      "52.xyz\n",
      "53.xyz\n",
      "54.xyz\n",
      "55.xyz\n",
      "56.xyz\n",
      "57.xyz\n",
      "58.xyz\n",
      "59.xyz\n",
      "60.xyz\n",
      "61.xyz\n",
      "62.xyz\n",
      "63.xyz\n",
      "64.xyz\n",
      "65.xyz\n",
      "66.xyz\n",
      "67.xyz\n",
      "68.xyz\n",
      "69.xyz\n",
      "70.xyz\n",
      "71.xyz\n",
      "72.xyz\n",
      "73.xyz\n",
      "74.xyz\n",
      "75.xyz\n",
      "76.xyz\n",
      "77.xyz\n",
      "78.xyz\n",
      "79.xyz\n",
      "80.xyz\n",
      "81.xyz\n",
      "82.xyz\n",
      "83.xyz\n",
      "84.xyz\n",
      "85.xyz\n",
      "86.xyz\n",
      "87.xyz\n",
      "88.xyz\n",
      "89.xyz\n",
      "90.xyz\n",
      "91.xyz\n",
      "92.xyz\n",
      "93.xyz\n",
      "94.xyz\n",
      "95.xyz\n",
      "96.xyz\n",
      "97.xyz\n",
      "98.xyz\n",
      "99.xyz\n",
      "100.xyz\n"
     ]
    }
   ],
   "source": [
    "#mol.generate_coulomb_matrix(size=bigmolecule)\n",
    "molnumber=100\n",
    "bigmolecule=20\n",
    "X=np.zeros((molnumber,(210)))\n",
    "for i in range (1,(molnumber+1)):\n",
    "    mol=qml.Compound(xyz=(str(i)+\".xyz\"))\n",
    "    mol.generate_coulomb_matrix(size=bigmolecule,sorting=\"row-norm\")\n",
    "    print (str(i)+\".xyz\")\n",
    "    X[(i-1),:]=mol.representation"
   ]
  },
  {
   "cell_type": "code",
   "execution_count": 9,
   "metadata": {
    "collapsed": true
   },
   "outputs": [],
   "source": [
    "#np.savetxt(\"BagofBonds.csv\", X, delimiter=\",\")"
   ]
  },
  {
   "cell_type": "code",
   "execution_count": 4,
   "metadata": {},
   "outputs": [
    {
     "name": "stdout",
     "output_type": "stream",
     "text": [
      "[-1.75412749 -1.57394694 -1.60420869 -1.6963432  -1.31912175 -1.85637042\n",
      " -2.24336526 -2.26375497 -2.18750378 -2.19048765 -2.2548397  -1.82012619\n",
      " -1.98589982 -2.19073915 -2.28935043 -2.18330424 -2.22259339 -2.20967386\n",
      " -1.86277823 -2.00721649 -2.22612125 -1.99123459 -1.98618747 -1.79629139\n",
      " -1.69268526 -1.86424233 -1.79451554 -2.1181998  -3.60438911 -1.92309019\n",
      " -2.21904119 -2.07788279 -2.67109083 -3.58584923 -1.70168939 -1.68743615\n",
      " -1.58644717 -3.59149361 -2.17711286 -1.69681339 -1.80586862 -1.70786094\n",
      " -2.43310195 -3.50697674 -1.63703939 -1.80019236 -1.67687787 -2.33767308\n",
      " -3.39314228 -2.13955469 -2.55360847 -2.18086379 -2.63075223 -2.70728523\n",
      " -3.81808228 -2.33998865 -2.02559002 -2.2595457  -2.38170759 -2.51168836\n",
      " -2.24869783 -2.22802392 -2.25073366 -2.28015096 -2.54104574 -2.0905286\n",
      " -1.94300908 -1.97325558 -2.06326152 -3.1598478  -2.09132535 -1.82209468\n",
      " -1.85867595 -2.0446186  -1.90073788 -2.23738503 -2.07470847 -2.33188525\n",
      " -2.25352544 -2.0232607  -2.20927533 -2.2826477  -1.680804   -1.68781629\n",
      " -1.64179196 -1.67355238 -1.74664746 -1.69514346 -2.0115458  -2.53247484\n",
      " -2.49913761 -2.77068812 -2.31621792 -2.57300741 -2.29487245 -2.42230384\n",
      " -1.71977099 -1.88582092 -1.77065871 -1.75422375]\n"
     ]
    }
   ],
   "source": [
    "y = np.genfromtxt('n2.csv', delimiter=',', dtype=float)\n",
    "y[0]=-1.75412748893449\n",
    "print (y)\n"
   ]
  },
  {
   "cell_type": "code",
   "execution_count": 6,
   "metadata": {
    "scrolled": false
   },
   "outputs": [
    {
     "name": "stdout",
     "output_type": "stream",
     "text": [
      "1.0\n",
      "1.0909090909090908\n",
      "1.1818181818181819\n",
      "1.2727272727272727\n",
      "1.3636363636363638\n",
      "1.4545454545454546\n",
      "1.5454545454545454\n",
      "1.6363636363636362\n",
      "1.7272727272727273\n",
      "1.8181818181818183\n",
      "1.9090909090909092\n",
      "2.0\n",
      "2.090909090909091\n",
      "2.1818181818181817\n",
      "2.2727272727272725\n",
      "2.3636363636363638\n",
      "2.4545454545454546\n",
      "2.5454545454545454\n",
      "2.6363636363636367\n",
      "2.7272727272727275\n",
      "2.8181818181818183\n",
      "2.909090909090909\n",
      "3.0\n",
      "3.090909090909091\n",
      "3.1818181818181817\n",
      "3.272727272727273\n",
      "3.3636363636363638\n",
      "3.4545454545454546\n",
      "3.5454545454545454\n",
      "3.6363636363636362\n",
      "3.7272727272727275\n",
      "3.8181818181818183\n",
      "3.909090909090909\n",
      "4.0\n",
      "4.090909090909091\n",
      "4.181818181818182\n",
      "4.272727272727273\n",
      "4.363636363636363\n",
      "4.454545454545455\n",
      "4.545454545454545\n",
      "4.636363636363637\n",
      "4.7272727272727275\n",
      "4.818181818181818\n",
      "4.909090909090909\n",
      "5.0\n",
      "5.090909090909091\n",
      "5.181818181818182\n",
      "5.2727272727272725\n",
      "5.363636363636363\n",
      "5.454545454545455\n",
      "5.545454545454546\n",
      "5.636363636363637\n",
      "5.7272727272727275\n",
      "5.818181818181818\n",
      "5.909090909090909\n",
      "6.0\n",
      "6.090909090909091\n",
      "6.181818181818182\n",
      "6.2727272727272725\n",
      "6.363636363636364\n",
      "6.454545454545455\n",
      "6.545454545454546\n",
      "6.636363636363637\n",
      "6.7272727272727275\n",
      "6.818181818181818\n",
      "6.909090909090909\n",
      "7.0\n",
      "7.090909090909091\n",
      "7.181818181818182\n",
      "7.2727272727272725\n",
      "7.363636363636364\n",
      "7.454545454545455\n",
      "7.545454545454546\n",
      "7.636363636363637\n",
      "7.7272727272727275\n",
      "7.818181818181818\n",
      "7.909090909090909\n",
      "8.0\n",
      "8.09090909090909\n",
      "8.181818181818182\n",
      "8.272727272727273\n",
      "8.363636363636363\n",
      "8.454545454545455\n",
      "8.545454545454547\n",
      "8.636363636363637\n",
      "8.727272727272727\n",
      "8.818181818181818\n",
      "8.90909090909091\n",
      "9.0\n",
      "9.090909090909092\n",
      "9.181818181818182\n",
      "9.272727272727273\n",
      "9.363636363636363\n",
      "9.454545454545455\n",
      "9.545454545454545\n",
      "9.636363636363637\n",
      "9.727272727272727\n",
      "9.818181818181818\n",
      "9.90909090909091\n",
      "10.0\n"
     ]
    }
   ],
   "source": [
    "from sklearn.neural_network import MLPRegressor\n",
    "rlf = MLPRegressor(alpha=5, max_iter=20000,hidden_layer_sizes=(100,100,100,100,100,100,100), verbose=True, tol=0.000000001,learning_rate_init=.0001)\n",
    "a=np.linspace(1,10,num=25)\n",
    "best=100000\n",
    "\n",
    "\n",
    "for b in a:  \n",
    "    rlf = MLPRegressor(alpha=b, max_iter=20000,hidden_layer_sizes=(100,100,100,100,100,100,100), verbose=False, tol=0.000000001,learning_rate_init=.0001)\n",
    "    print (b)\n",
    "    rlf.fit(X_train_scaled, np.ravel(y_train))\n",
    "    error=rmse(rlf.predict(X_test_scaled),y_test)\n",
    "    if (error < best):\n",
    "        best=error\n",
    "        rlfbest=rlf\n",
    "    "
   ]
  },
  {
   "cell_type": "code",
   "execution_count": 18,
   "metadata": {},
   "outputs": [
    {
     "name": "stdout",
     "output_type": "stream",
     "text": [
      "[-2.28935043 -2.18330424 -2.20967386 -1.99123459 -2.07788279 -1.70786094\n",
      " -2.24869783 -2.06326152 -2.53247484 -2.31621792]\n"
     ]
    },
    {
     "ename": "NameError",
     "evalue": "name 'rlf' is not defined",
     "output_type": "error",
     "traceback": [
      "\u001b[0;31m---------------------------------------------------------------------------\u001b[0m",
      "\u001b[0;31mNameError\u001b[0m                                 Traceback (most recent call last)",
      "\u001b[0;32m<ipython-input-18-2a5c5bb2b5dc>\u001b[0m in \u001b[0;36m<module>\u001b[0;34m()\u001b[0m\n\u001b[1;32m      1\u001b[0m \u001b[0mprint\u001b[0m \u001b[0;34m(\u001b[0m\u001b[0my_test\u001b[0m\u001b[0;34m)\u001b[0m\u001b[0;34m\u001b[0m\u001b[0;34m\u001b[0m\u001b[0m\n\u001b[0;32m----> 2\u001b[0;31m \u001b[0mprint\u001b[0m \u001b[0;34m(\u001b[0m\u001b[0mrlf\u001b[0m\u001b[0;34m.\u001b[0m\u001b[0mpredict\u001b[0m\u001b[0;34m(\u001b[0m\u001b[0mX_test_scaled\u001b[0m\u001b[0;34m)\u001b[0m\u001b[0;34m)\u001b[0m\u001b[0;34m\u001b[0m\u001b[0;34m\u001b[0m\u001b[0m\n\u001b[0m\u001b[1;32m      3\u001b[0m \u001b[0mprint\u001b[0m \u001b[0;34m(\u001b[0m\u001b[0mbest\u001b[0m\u001b[0;34m)\u001b[0m\u001b[0;34m\u001b[0m\u001b[0;34m\u001b[0m\u001b[0m\n",
      "\u001b[0;31mNameError\u001b[0m: name 'rlf' is not defined"
     ]
    }
   ],
   "source": [
    "print (y_test)\n",
    "print (rlf.predict(X_test_scaled))\n",
    "print (best)"
   ]
  },
  {
   "cell_type": "code",
   "execution_count": 3,
   "metadata": {},
   "outputs": [
    {
     "ename": "NameError",
     "evalue": "name 'X' is not defined",
     "output_type": "error",
     "traceback": [
      "\u001b[0;31m---------------------------------------------------------------------------\u001b[0m",
      "\u001b[0;31mNameError\u001b[0m                                 Traceback (most recent call last)",
      "\u001b[0;32m<ipython-input-3-bc2de0e9f44c>\u001b[0m in \u001b[0;36m<module>\u001b[0;34m()\u001b[0m\n\u001b[1;32m      1\u001b[0m \u001b[0;32mfrom\u001b[0m \u001b[0msklearn\u001b[0m\u001b[0;34m.\u001b[0m\u001b[0mmodel_selection\u001b[0m \u001b[0;32mimport\u001b[0m \u001b[0mKFold\u001b[0m\u001b[0;34m\u001b[0m\u001b[0;34m\u001b[0m\u001b[0m\n\u001b[1;32m      2\u001b[0m \u001b[0mkf\u001b[0m \u001b[0;34m=\u001b[0m \u001b[0mKFold\u001b[0m\u001b[0;34m(\u001b[0m\u001b[0mn_splits\u001b[0m\u001b[0;34m=\u001b[0m\u001b[0;36m10\u001b[0m\u001b[0;34m,\u001b[0m \u001b[0mrandom_state\u001b[0m\u001b[0;34m=\u001b[0m\u001b[0;36m12\u001b[0m\u001b[0;34m,\u001b[0m \u001b[0mshuffle\u001b[0m\u001b[0;34m=\u001b[0m\u001b[0;32mTrue\u001b[0m\u001b[0;34m)\u001b[0m\u001b[0;34m\u001b[0m\u001b[0;34m\u001b[0m\u001b[0m\n\u001b[0;32m----> 3\u001b[0;31m \u001b[0mkf\u001b[0m\u001b[0;34m.\u001b[0m\u001b[0mget_n_splits\u001b[0m\u001b[0;34m(\u001b[0m\u001b[0mX\u001b[0m\u001b[0;34m)\u001b[0m\u001b[0;34m\u001b[0m\u001b[0;34m\u001b[0m\u001b[0m\n\u001b[0m\u001b[1;32m      4\u001b[0m \u001b[0mprint\u001b[0m \u001b[0;34m(\u001b[0m\u001b[0mkf\u001b[0m\u001b[0;34m)\u001b[0m\u001b[0;34m\u001b[0m\u001b[0;34m\u001b[0m\u001b[0m\n\u001b[1;32m      5\u001b[0m \u001b[0merrorlist\u001b[0m\u001b[0;34m=\u001b[0m\u001b[0mlist\u001b[0m\u001b[0;34m(\u001b[0m\u001b[0;34m)\u001b[0m\u001b[0;34m\u001b[0m\u001b[0;34m\u001b[0m\u001b[0m\n",
      "\u001b[0;31mNameError\u001b[0m: name 'X' is not defined"
     ]
    }
   ],
   "source": [
    "from sklearn.model_selection import KFold\n",
    "kf = KFold(n_splits=10, random_state=12, shuffle=True)\n",
    "kf.get_n_splits(X)\n",
    "print (kf)\n",
    "errorlist=list()\n",
    "for train_index, test_index in kf.split(X):\n",
    "    print(\"TRAIN:\", train_index, \"TEST:\", test_index)\n",
    "    X_train, X_test = X[train_index], X[test_index]\n",
    "    y_train, y_test = y[train_index], y[test_index]\n",
    "    a=np.linspace(1,10,num=25)\n",
    "    scaler = MinMaxScaler().fit(X_train)\n",
    "    X_train_scaled = scaler.transform(X_train)\n",
    "    X_test_scaled = scaler.transform(X_test)\n",
    "\n",
    "    best=100000\n",
    "    for b in a:  \n",
    "        rlf = MLPRegressor(alpha=b, max_iter=20000,hidden_layer_sizes=(100,100,100,100,100,100,100), verbose=False, tol=0.000000001,learning_rate_init=.0001)\n",
    "        print (b)\n",
    "        rlf.fit(X_train_scaled, np.ravel(y_train))\n",
    "        error=rmse(rlf.predict(X_test_scaled),y_test)\n",
    "        if (error < best):\n",
    "            best=error\n",
    "            rlfbest=rlf\n",
    "    \n",
    "    errorlist.append(best)\n"
   ]
  },
  {
   "cell_type": "code",
   "execution_count": 17,
   "metadata": {},
   "outputs": [
    {
     "name": "stdout",
     "output_type": "stream",
     "text": [
      "[[73.51669472 29.57279684 73.51669472 ...  0.          0.\n",
      "   0.        ]\n",
      " [73.51669472 29.59535246 73.51669472 ...  0.          0.\n",
      "   0.        ]\n",
      " [73.51669472 29.67202959 73.51669472 ...  0.          0.\n",
      "   0.        ]\n",
      " ...\n",
      " [53.3587074  17.41453589 36.8581052  ...  0.          0.\n",
      "   0.        ]\n",
      " [53.3587074  20.61624819 53.3587074  ...  0.          0.\n",
      "   0.        ]\n",
      " [53.3587074  37.21942209 53.3587074  ...  0.          0.\n",
      "   0.        ]]\n"
     ]
    }
   ],
   "source": [
    "print (x_test)"
   ]
  },
  {
   "cell_type": "code",
   "execution_count": 33,
   "metadata": {},
   "outputs": [
    {
     "name": "stdout",
     "output_type": "stream",
     "text": [
      "[1.6024186576564567, 1.1473251654767962, 1.5072750042118679, 1.8862150448571904, 1.3897980684646798, 1.9193145393323896, 1.7392948851478085, 2.0154108557937325, 0.9142074836440176, 1.3822847942769603]\n"
     ]
    }
   ],
   "source": [
    "print (errorlist)"
   ]
  },
  {
   "cell_type": "code",
   "execution_count": 5,
   "metadata": {},
   "outputs": [
    {
     "name": "stdout",
     "output_type": "stream",
     "text": [
      "KFold(n_splits=10, random_state=12, shuffle=True)\n",
      "TRAIN: [ 0  1  2  3  4  5  6  7  8  9 10 11 12 13 16 18 19 20 22 23 24 25 26 27\n",
      " 28 29 30 32 33 34 35 36 37 38 39 40 42 43 44 45 46 47 48 49 50 51 52 53\n",
      " 54 55 56 57 58 59 61 62 63 64 65 66 67 69 70 71 72 73 74 75 76 77 78 79\n",
      " 80 81 82 83 84 85 86 87 88 90 91 93 94 95 96 97 98 99] TEST: [14 15 17 21 31 41 60 68 89 92]\n",
      "TRAIN: [ 0  1  2  3  4  5  6 10 11 13 14 15 17 18 19 20 21 22 23 25 26 27 28 29\n",
      " 30 31 32 33 34 35 36 37 38 40 41 42 43 44 45 46 47 48 49 50 51 52 53 54\n",
      " 55 56 57 59 60 61 62 63 64 65 66 67 68 69 71 72 73 74 75 76 77 78 79 80\n",
      " 81 82 83 84 85 87 88 89 90 91 92 93 94 95 96 97 98 99] TEST: [ 7  8  9 12 16 24 39 58 70 86]\n",
      "TRAIN: [ 0  1  2  3  4  5  6  7  8  9 10 11 12 13 14 15 16 17 18 20 21 22 24 25\n",
      " 27 28 29 30 31 32 33 34 35 37 38 39 40 41 42 43 44 45 47 48 49 50 51 52\n",
      " 53 56 58 59 60 61 62 63 64 65 66 67 68 69 70 71 72 73 74 75 76 77 78 79\n",
      " 80 81 82 84 85 86 87 88 89 90 92 93 94 95 96 97 98 99] TEST: [19 23 26 36 46 54 55 57 83 91]\n",
      "TRAIN: [ 0  1  2  3  4  5  6  7  8  9 10 11 12 13 14 15 16 17 18 19 20 21 22 23\n",
      " 24 25 26 27 28 30 31 32 33 34 35 36 37 39 41 42 43 44 45 46 47 48 49 50\n",
      " 51 52 53 54 55 56 57 58 59 60 61 62 63 64 66 67 68 69 70 71 72 73 74 75\n",
      " 76 79 80 82 83 85 86 87 89 91 92 93 94 95 96 97 98 99] TEST: [29 38 40 65 77 78 81 84 88 90]\n",
      "TRAIN: [ 0  1  2  3  4  5  6  7  8  9 11 12 13 14 15 16 17 18 19 21 22 23 24 25\n",
      " 26 27 29 30 31 32 33 34 35 36 37 38 39 40 41 43 44 45 46 47 48 49 50 51\n",
      " 52 53 54 55 56 57 58 59 60 61 62 63 64 65 66 67 68 69 70 74 75 76 77 78\n",
      " 80 81 82 83 84 85 86 87 88 89 90 91 92 93 94 97 98 99] TEST: [10 20 28 42 71 72 73 79 95 96]\n",
      "TRAIN: [ 0  1  2  3  4  5  6  7  8  9 10 12 13 14 15 16 17 18 19 20 21 22 23 24\n",
      " 25 26 27 28 29 30 31 32 33 34 35 36 38 39 40 41 42 45 46 48 49 50 52 54\n",
      " 55 56 57 58 59 60 62 63 65 67 68 69 70 71 72 73 74 75 76 77 78 79 80 81\n",
      " 82 83 84 85 86 87 88 89 90 91 92 93 94 95 96 97 98 99] TEST: [11 37 43 44 47 51 53 61 64 66]\n",
      "TRAIN: [ 0  2  3  5  6  7  8  9 10 11 12 13 14 15 16 17 18 19 20 21 22 23 24 26\n",
      " 27 28 29 30 31 33 34 35 36 37 38 39 40 41 42 43 44 45 46 47 48 49 50 51\n",
      " 52 53 54 55 57 58 60 61 62 63 64 65 66 67 68 70 71 72 73 74 75 76 77 78\n",
      " 79 80 81 82 83 84 86 87 88 89 90 91 92 93 95 96 97 99] TEST: [ 1  4 25 32 56 59 69 85 94 98]\n",
      "TRAIN: [ 0  1  2  3  4  5  6  7  8  9 10 11 12 13 14 15 16 17 19 20 21 22 23 24\n",
      " 25 26 27 28 29 31 32 34 35 36 37 38 39 40 41 42 43 44 46 47 48 49 51 52\n",
      " 53 54 55 56 57 58 59 60 61 64 65 66 67 68 69 70 71 72 73 74 75 76 77 78\n",
      " 79 81 83 84 85 86 87 88 89 90 91 92 93 94 95 96 98 99] TEST: [18 30 33 45 50 62 63 80 82 97]\n",
      "TRAIN: [ 1  2  3  4  6  7  8  9 10 11 12 14 15 16 17 18 19 20 21 22 23 24 25 26\n",
      " 27 28 29 30 31 32 33 36 37 38 39 40 41 42 43 44 45 46 47 48 49 50 51 53\n",
      " 54 55 56 57 58 59 60 61 62 63 64 65 66 67 68 69 70 71 72 73 75 76 77 78\n",
      " 79 80 81 82 83 84 85 86 88 89 90 91 92 94 95 96 97 98] TEST: [ 0  5 13 34 35 52 74 87 93 99]\n",
      "TRAIN: [ 0  1  4  5  7  8  9 10 11 12 13 14 15 16 17 18 19 20 21 23 24 25 26 28\n",
      " 29 30 31 32 33 34 35 36 37 38 39 40 41 42 43 44 45 46 47 50 51 52 53 54\n",
      " 55 56 57 58 59 60 61 62 63 64 65 66 68 69 70 71 72 73 74 77 78 79 80 81\n",
      " 82 83 84 85 86 87 88 89 90 91 92 93 94 95 96 97 98 99] TEST: [ 2  3  6 22 27 48 49 67 75 76]\n"
     ]
    }
   ],
   "source": [
    "def rmse(predictions, targets):\n",
    "    return np.sqrt(((predictions - targets) ** 2).mean())\n",
    "from sklearn.model_selection import KFold\n",
    "from sklearn.ensemble import RandomForestRegressor\n",
    "kf = KFold(n_splits=10, random_state=12, shuffle=True)\n",
    "kf.get_n_splits(X)\n",
    "print (kf)\n",
    "errorlist=list()\n",
    "residuals=list()\n",
    "for train_index, test_index in kf.split(X):\n",
    "    print(\"TRAIN:\", train_index, \"TEST:\", test_index)\n",
    "    X_train, X_test = X[train_index], X[test_index]\n",
    "    y_train, y_test = y[train_index], y[test_index]\n",
    "    \n",
    "    scaler = MinMaxScaler().fit(X_train)\n",
    "    X_train_scaled = scaler.transform(X_train)\n",
    "    X_test_scaled = scaler.transform(X_test)\n",
    "    rf = RandomForestRegressor(random_state = 42)\n",
    "    rf.fit(X_train_scaled, y_train)\n",
    "    error=rmse(rf.predict(X_test_scaled),y_test)\n",
    "    errorlist.append(error)\n",
    "    residuals.append(np.abs(y_test-rf.predict(X_test_scaled)))\n",
    "    "
   ]
  },
  {
   "cell_type": "code",
   "execution_count": 6,
   "metadata": {},
   "outputs": [
    {
     "name": "stdout",
     "output_type": "stream",
     "text": [
      "[0.21912255270057013, 0.248231387862446, 0.5015834795352685, 0.1771896627480924, 0.28865999830796985, 0.49194970483502254, 0.4396275471512125, 0.2507002485910656, 0.24028855116647002, 0.3195102059339923]\n"
     ]
    }
   ],
   "source": [
    "print (errorlist)\n"
   ]
  },
  {
   "cell_type": "code",
   "execution_count": 7,
   "metadata": {
    "collapsed": true
   },
   "outputs": [],
   "source": [
    "\n",
    "import os.path\n",
    "#use a list to store these\n",
    "poly=[]\n",
    "\n",
    "for x in range(1, 101):\n",
    "    if os.path.isfile(str(x) + '.xyz'):\n",
    "        poly.append(qml.Compound(xyz=(str(x) + '.xyz')))\n",
    "    else:\n",
    "        poly.append('blank')"
   ]
  },
  {
   "cell_type": "code",
   "execution_count": 8,
   "metadata": {},
   "outputs": [
    {
     "ename": "NameError",
     "evalue": "name 'Counter' is not defined",
     "output_type": "error",
     "traceback": [
      "\u001b[0;31m---------------------------------------------------------------------------\u001b[0m",
      "\u001b[0;31mNameError\u001b[0m                                 Traceback (most recent call last)",
      "\u001b[0;32m<ipython-input-8-e2535f127076>\u001b[0m in \u001b[0;36m<module>\u001b[0;34m()\u001b[0m\n\u001b[1;32m      1\u001b[0m \u001b[0;32mfor\u001b[0m \u001b[0ma\u001b[0m \u001b[0;32min\u001b[0m \u001b[0mrange\u001b[0m \u001b[0;34m(\u001b[0m\u001b[0;36m0\u001b[0m\u001b[0;34m,\u001b[0m\u001b[0;36m100\u001b[0m\u001b[0;34m)\u001b[0m\u001b[0;34m:\u001b[0m\u001b[0;34m\u001b[0m\u001b[0;34m\u001b[0m\u001b[0m\n\u001b[1;32m      2\u001b[0m     \u001b[0;32mif\u001b[0m \u001b[0;34m(\u001b[0m\u001b[0mpoly\u001b[0m\u001b[0;34m[\u001b[0m\u001b[0ma\u001b[0m\u001b[0;34m]\u001b[0m \u001b[0;34m!=\u001b[0m \u001b[0;34m'blank'\u001b[0m\u001b[0;34m)\u001b[0m\u001b[0;34m:\u001b[0m\u001b[0;34m\u001b[0m\u001b[0;34m\u001b[0m\u001b[0m\n\u001b[0;32m----> 3\u001b[0;31m         \u001b[0mdope\u001b[0m\u001b[0;34m=\u001b[0m \u001b[0mCounter\u001b[0m\u001b[0;34m(\u001b[0m\u001b[0;34m)\u001b[0m\u001b[0;34m\u001b[0m\u001b[0;34m\u001b[0m\u001b[0m\n\u001b[0m\u001b[1;32m      4\u001b[0m         \u001b[0;32mfor\u001b[0m \u001b[0mnumber\u001b[0m \u001b[0;32min\u001b[0m \u001b[0mpoly\u001b[0m\u001b[0;34m[\u001b[0m\u001b[0ma\u001b[0m\u001b[0;34m]\u001b[0m\u001b[0;34m.\u001b[0m\u001b[0mnuclear_charges\u001b[0m\u001b[0;34m:\u001b[0m\u001b[0;34m\u001b[0m\u001b[0;34m\u001b[0m\u001b[0m\n\u001b[1;32m      5\u001b[0m             \u001b[0mdope\u001b[0m\u001b[0;34m[\u001b[0m\u001b[0mnumber\u001b[0m\u001b[0;34m]\u001b[0m \u001b[0;34m+=\u001b[0m \u001b[0;36m1\u001b[0m\u001b[0;34m\u001b[0m\u001b[0;34m\u001b[0m\u001b[0m\n",
      "\u001b[0;31mNameError\u001b[0m: name 'Counter' is not defined"
     ]
    }
   ],
   "source": [
    "for a in range (0,100):\n",
    "    if (poly[a] != 'blank'):\n",
    "        dope= Counter()\n",
    "        for number in poly[a].nuclear_charges:      \n",
    "            dope[number] += 1\n",
    "            for i in range (1,100):\n",
    "                if dope[i] > b[i]:\n",
    "                    b[i]=dope[i]\n",
    "print (b)"
   ]
  },
  {
   "cell_type": "code",
   "execution_count": 9,
   "metadata": {
    "collapsed": true
   },
   "outputs": [],
   "source": [
    "#mol = qml.Compound(xyz=\"1.xyz\")\n",
    "molnumber=100\n",
    "bigmolecule=20\n",
    "mol.generate_coulomb_matrix(size=bigmolecule,sorting=\"row-norm\")\n",
    "mol.generate_bob(asize={\"C\":8, \"H\":11,\"O\":3, \"N\":5, \"F\":3, \"S\":1, \"Cl\":1})"
   ]
  },
  {
   "cell_type": "code",
   "execution_count": 10,
   "metadata": {},
   "outputs": [
    {
     "name": "stdout",
     "output_type": "stream",
     "text": [
      "528\n"
     ]
    }
   ],
   "source": [
    "print (mol.representation.size)"
   ]
  },
  {
   "cell_type": "code",
   "execution_count": 3,
   "metadata": {},
   "outputs": [
    {
     "name": "stdout",
     "output_type": "stream",
     "text": [
      "1.xyz\n",
      "2.xyz\n",
      "3.xyz\n",
      "4.xyz\n",
      "5.xyz\n",
      "6.xyz\n",
      "7.xyz\n",
      "8.xyz\n",
      "9.xyz\n",
      "10.xyz\n",
      "11.xyz\n",
      "12.xyz\n",
      "13.xyz\n",
      "14.xyz\n",
      "15.xyz\n",
      "16.xyz\n",
      "17.xyz\n",
      "18.xyz\n",
      "19.xyz\n",
      "20.xyz\n",
      "21.xyz\n",
      "22.xyz\n",
      "23.xyz\n",
      "24.xyz\n",
      "25.xyz\n",
      "26.xyz\n",
      "27.xyz\n",
      "28.xyz\n",
      "29.xyz\n",
      "30.xyz\n",
      "31.xyz\n",
      "32.xyz\n",
      "33.xyz\n",
      "34.xyz\n",
      "35.xyz\n",
      "36.xyz\n",
      "37.xyz\n",
      "38.xyz\n",
      "39.xyz\n",
      "40.xyz\n",
      "41.xyz\n",
      "42.xyz\n",
      "43.xyz\n",
      "44.xyz\n",
      "45.xyz\n",
      "46.xyz\n",
      "47.xyz\n",
      "48.xyz\n",
      "49.xyz\n",
      "50.xyz\n",
      "51.xyz\n",
      "52.xyz\n",
      "53.xyz\n",
      "54.xyz\n",
      "55.xyz\n",
      "56.xyz\n",
      "57.xyz\n",
      "58.xyz\n",
      "59.xyz\n",
      "60.xyz\n",
      "61.xyz\n",
      "62.xyz\n",
      "63.xyz\n",
      "64.xyz\n",
      "65.xyz\n",
      "66.xyz\n",
      "67.xyz\n",
      "68.xyz\n",
      "69.xyz\n",
      "70.xyz\n",
      "71.xyz\n",
      "72.xyz\n",
      "73.xyz\n",
      "74.xyz\n",
      "75.xyz\n",
      "76.xyz\n",
      "77.xyz\n",
      "78.xyz\n",
      "79.xyz\n",
      "80.xyz\n",
      "81.xyz\n",
      "82.xyz\n",
      "83.xyz\n",
      "84.xyz\n",
      "85.xyz\n",
      "86.xyz\n",
      "87.xyz\n",
      "88.xyz\n",
      "89.xyz\n",
      "90.xyz\n",
      "91.xyz\n",
      "92.xyz\n",
      "93.xyz\n",
      "94.xyz\n",
      "95.xyz\n",
      "96.xyz\n",
      "97.xyz\n",
      "98.xyz\n",
      "99.xyz\n",
      "100.xyz\n"
     ]
    }
   ],
   "source": [
    "molnumber=100\n",
    "bigmolecule=20\n",
    "X=np.zeros((molnumber,(528)))\n",
    "for i in range (1,(molnumber+1)):\n",
    "    mol=qml.Compound(xyz=(str(i)+\".xyz\"))\n",
    "    mol.generate_bob(asize={\"C\":8, \"H\":11,\"O\":3, \"N\":5, \"F\":3, \"S\":1, \"Cl\":1})\n",
    "    print (str(i)+\".xyz\")\n",
    "    X[(i-1),:]=mol.representation\n",
    "    \n"
   ]
  },
  {
   "cell_type": "code",
   "execution_count": 4,
   "metadata": {},
   "outputs": [
    {
     "name": "stderr",
     "output_type": "stream",
     "text": [
      "/Users/voglab04/anaconda3/lib/python3.6/importlib/_bootstrap.py:219: RuntimeWarning: numpy.dtype size changed, may indicate binary incompatibility. Expected 96, got 88\n",
      "  return f(*args, **kwds)\n"
     ]
    },
    {
     "name": "stdout",
     "output_type": "stream",
     "text": [
      "KFold(n_splits=10, random_state=12, shuffle=True)\n",
      "TRAIN: [ 0  1  2  3  4  5  6  7  8  9 10 11 12 13 16 18 19 20 22 23 24 25 26 27\n",
      " 28 29 30 32 33 34 35 36 37 38 39 40 42 43 44 45 46 47 48 49 50 51 52 53\n",
      " 54 55 56 57 58 59 61 62 63 64 65 66 67 69 70 71 72 73 74 75 76 77 78 79\n",
      " 80 81 82 83 84 85 86 87 88 90 91 93 94 95 96 97 98 99] TEST: [14 15 17 21 31 41 60 68 89 92]\n",
      "TRAIN: [ 0  1  2  3  4  5  6 10 11 13 14 15 17 18 19 20 21 22 23 25 26 27 28 29\n",
      " 30 31 32 33 34 35 36 37 38 40 41 42 43 44 45 46 47 48 49 50 51 52 53 54\n",
      " 55 56 57 59 60 61 62 63 64 65 66 67 68 69 71 72 73 74 75 76 77 78 79 80\n",
      " 81 82 83 84 85 87 88 89 90 91 92 93 94 95 96 97 98 99] TEST: [ 7  8  9 12 16 24 39 58 70 86]\n",
      "TRAIN: [ 0  1  2  3  4  5  6  7  8  9 10 11 12 13 14 15 16 17 18 20 21 22 24 25\n",
      " 27 28 29 30 31 32 33 34 35 37 38 39 40 41 42 43 44 45 47 48 49 50 51 52\n",
      " 53 56 58 59 60 61 62 63 64 65 66 67 68 69 70 71 72 73 74 75 76 77 78 79\n",
      " 80 81 82 84 85 86 87 88 89 90 92 93 94 95 96 97 98 99] TEST: [19 23 26 36 46 54 55 57 83 91]\n",
      "TRAIN: [ 0  1  2  3  4  5  6  7  8  9 10 11 12 13 14 15 16 17 18 19 20 21 22 23\n",
      " 24 25 26 27 28 30 31 32 33 34 35 36 37 39 41 42 43 44 45 46 47 48 49 50\n",
      " 51 52 53 54 55 56 57 58 59 60 61 62 63 64 66 67 68 69 70 71 72 73 74 75\n",
      " 76 79 80 82 83 85 86 87 89 91 92 93 94 95 96 97 98 99] TEST: [29 38 40 65 77 78 81 84 88 90]\n",
      "TRAIN: [ 0  1  2  3  4  5  6  7  8  9 11 12 13 14 15 16 17 18 19 21 22 23 24 25\n",
      " 26 27 29 30 31 32 33 34 35 36 37 38 39 40 41 43 44 45 46 47 48 49 50 51\n",
      " 52 53 54 55 56 57 58 59 60 61 62 63 64 65 66 67 68 69 70 74 75 76 77 78\n",
      " 80 81 82 83 84 85 86 87 88 89 90 91 92 93 94 97 98 99] TEST: [10 20 28 42 71 72 73 79 95 96]\n",
      "TRAIN: [ 0  1  2  3  4  5  6  7  8  9 10 12 13 14 15 16 17 18 19 20 21 22 23 24\n",
      " 25 26 27 28 29 30 31 32 33 34 35 36 38 39 40 41 42 45 46 48 49 50 52 54\n",
      " 55 56 57 58 59 60 62 63 65 67 68 69 70 71 72 73 74 75 76 77 78 79 80 81\n",
      " 82 83 84 85 86 87 88 89 90 91 92 93 94 95 96 97 98 99] TEST: [11 37 43 44 47 51 53 61 64 66]\n",
      "TRAIN: [ 0  2  3  5  6  7  8  9 10 11 12 13 14 15 16 17 18 19 20 21 22 23 24 26\n",
      " 27 28 29 30 31 33 34 35 36 37 38 39 40 41 42 43 44 45 46 47 48 49 50 51\n",
      " 52 53 54 55 57 58 60 61 62 63 64 65 66 67 68 70 71 72 73 74 75 76 77 78\n",
      " 79 80 81 82 83 84 86 87 88 89 90 91 92 93 95 96 97 99] TEST: [ 1  4 25 32 56 59 69 85 94 98]\n",
      "TRAIN: [ 0  1  2  3  4  5  6  7  8  9 10 11 12 13 14 15 16 17 19 20 21 22 23 24\n",
      " 25 26 27 28 29 31 32 34 35 36 37 38 39 40 41 42 43 44 46 47 48 49 51 52\n",
      " 53 54 55 56 57 58 59 60 61 64 65 66 67 68 69 70 71 72 73 74 75 76 77 78\n",
      " 79 81 83 84 85 86 87 88 89 90 91 92 93 94 95 96 98 99] TEST: [18 30 33 45 50 62 63 80 82 97]\n",
      "TRAIN: [ 1  2  3  4  6  7  8  9 10 11 12 14 15 16 17 18 19 20 21 22 23 24 25 26\n",
      " 27 28 29 30 31 32 33 36 37 38 39 40 41 42 43 44 45 46 47 48 49 50 51 53\n",
      " 54 55 56 57 58 59 60 61 62 63 64 65 66 67 68 69 70 71 72 73 75 76 77 78\n",
      " 79 80 81 82 83 84 85 86 88 89 90 91 92 94 95 96 97 98] TEST: [ 0  5 13 34 35 52 74 87 93 99]\n",
      "TRAIN: [ 0  1  4  5  7  8  9 10 11 12 13 14 15 16 17 18 19 20 21 23 24 25 26 28\n",
      " 29 30 31 32 33 34 35 36 37 38 39 40 41 42 43 44 45 46 47 50 51 52 53 54\n",
      " 55 56 57 58 59 60 61 62 63 64 65 66 68 69 70 71 72 73 74 77 78 79 80 81\n",
      " 82 83 84 85 86 87 88 89 90 91 92 93 94 95 96 97 98 99] TEST: [ 2  3  6 22 27 48 49 67 75 76]\n"
     ]
    }
   ],
   "source": [
    "def rmse(predictions, targets):\n",
    "    return np.sqrt(((predictions - targets) ** 2).mean())\n",
    "from sklearn.model_selection import KFold\n",
    "from sklearn.ensemble import RandomForestRegressor\n",
    "kf = KFold(n_splits=10, random_state=12, shuffle=True)\n",
    "kf.get_n_splits(X)\n",
    "print (kf)\n",
    "errorlist=list()\n",
    "for train_index, test_index in kf.split(X):\n",
    "    print(\"TRAIN:\", train_index, \"TEST:\", test_index)\n",
    "    X_train, X_test = X[train_index], X[test_index]\n",
    "    y_train, y_test = y[train_index], y[test_index]\n",
    "    \n",
    "    scaler = MinMaxScaler().fit(X_train)\n",
    "    X_train_scaled = scaler.transform(X_train)\n",
    "    X_test_scaled = scaler.transform(X_test)\n",
    "    rf = RandomForestRegressor(random_state = 42)\n",
    "    rf.fit(X_train_scaled, y_train)\n",
    "    error=rmse(rf.predict(X_test_scaled),y_test)\n",
    "    errorlist.append(error)"
   ]
  },
  {
   "cell_type": "code",
   "execution_count": 5,
   "metadata": {},
   "outputs": [
    {
     "name": "stdout",
     "output_type": "stream",
     "text": [
      "[0.18727369541243144, 0.15225496960968946, 0.2671116611885906, 0.15521295482216949, 0.2777948420736794, 0.3228106968013776, 0.34834237551811237, 0.06639182203246832, 0.1642808859269965, 0.16986146068162605]\n"
     ]
    }
   ],
   "source": [
    "print (errorlist)"
   ]
  },
  {
   "cell_type": "code",
   "execution_count": null,
   "metadata": {
    "collapsed": true
   },
   "outputs": [],
   "source": [
    "molnumber=100\n",
    "bigmolecule=20\n",
    "X=np.zeros((molnumber,(528)))\n",
    "for i in range (1,(molnumber+1)):\n",
    "    mol=qml.Compound(xyz=(str(i)+\".xyz\"))\n",
    "    mol.generate_bob(asize={\"C\":8, \"H\":11,\"O\":3, \"N\":5, \"F\":3, \"S\":1, \"Cl\":1})\n",
    "    print (str(i)+\".xyz\")\n",
    "    X[(i-1),:]=mol.representation\n",
    "    \n"
   ]
  },
  {
   "cell_type": "code",
   "execution_count": 31,
   "metadata": {
    "collapsed": true
   },
   "outputs": [],
   "source": [
    "from qml.representations import get_slatm_mbtypes\n",
    "import qml\n",
    "a=list()\n",
    "for i in range(1,101):    \n",
    "    a.append(qml.Compound(xyz=str(i)+\".xyz\"))\n",
    "mbtypes = get_slatm_mbtypes([compound.nuclear_charges for compound in a])\n",
    "for compound in a:\n",
    "    compound.generate_slatm(mbtypes, local=False)"
   ]
  },
  {
   "cell_type": "code",
   "execution_count": 33,
   "metadata": {},
   "outputs": [
    {
     "name": "stdout",
     "output_type": "stream",
     "text": [
      "(26163,)\n",
      "(26163,)\n",
      "(26163,)\n",
      "(26163,)\n",
      "(26163,)\n"
     ]
    }
   ],
   "source": [
    "print (a[3].representation.shape)\n",
    "print (a[4].representation.shape)\n",
    "print (a[5].representation.shape)\n",
    "print (a[6].representation.shape)\n",
    "print (a[12].representation.shape)\n",
    "X=np.array([compound.representation for compound in a])"
   ]
  },
  {
   "cell_type": "code",
   "execution_count": 35,
   "metadata": {},
   "outputs": [
    {
     "name": "stdout",
     "output_type": "stream",
     "text": [
      "[[ 5. 30.  7. ...  0.  0.  0.]\n",
      " [ 4. 24. 14. ...  0.  0.  0.]\n",
      " [ 4. 24. 14. ...  0.  0.  0.]\n",
      " ...\n",
      " [ 7. 42.  7. ...  0.  0.  0.]\n",
      " [ 6. 36. 14. ...  0.  0.  0.]\n",
      " [ 6. 36. 14. ...  0.  0.  0.]]\n"
     ]
    }
   ],
   "source": [
    "\n"
   ]
  },
  {
   "cell_type": "code",
   "execution_count": 37,
   "metadata": {},
   "outputs": [
    {
     "name": "stderr",
     "output_type": "stream",
     "text": [
      "/Users/voglab04/anaconda3/lib/python3.6/site-packages/sklearn/model_selection/_split.py:2010: FutureWarning: From version 0.21, test_size will always complement train_size unless both are specified.\n",
      "  FutureWarning)\n",
      "/Users/voglab04/anaconda3/lib/python3.6/site-packages/sklearn/preprocessing/data.py:350: RuntimeWarning: overflow encountered in true_divide\n",
      "  _handle_zeros_in_scale(data_range))\n",
      "/Users/voglab04/anaconda3/lib/python3.6/site-packages/sklearn/preprocessing/data.py:351: RuntimeWarning: invalid value encountered in multiply\n",
      "  self.min_ = feature_range[0] - data_min * self.scale_\n",
      "/Users/voglab04/anaconda3/lib/python3.6/site-packages/sklearn/preprocessing/data.py:369: RuntimeWarning: invalid value encountered in multiply\n",
      "  X *= self.scale_\n"
     ]
    }
   ],
   "source": [
    "y = np.genfromtxt('Co2_values.csv', delimiter=',',dtype=float)\n",
    "X_train, X_test, y_train, y_test = train_test_split(X,y, random_state=0, train_size=0.80)\n",
    "scaler = MinMaxScaler().fit(X_train)\n",
    "X_train_scaled = scaler.transform(X_train)\n",
    "X_test_scaled = scaler.transform(X_test)\n"
   ]
  },
  {
   "cell_type": "code",
   "execution_count": 38,
   "metadata": {},
   "outputs": [
    {
     "name": "stdout",
     "output_type": "stream",
     "text": [
      "KFold(n_splits=10, random_state=12, shuffle=True)\n",
      "TRAIN: [ 0  1  2  3  4  5  6  7  8  9 10 11 12 13 16 18 19 20 22 23 24 25 26 27\n",
      " 28 29 30 32 33 34 35 36 37 38 39 40 42 43 44 45 46 47 48 49 50 51 52 53\n",
      " 54 55 56 57 58 59 61 62 63 64 65 66 67 69 70 71 72 73 74 75 76 77 78 79\n",
      " 80 81 82 83 84 85 86 87 88 90 91 93 94 95 96 97 98 99] TEST: [14 15 17 21 31 41 60 68 89 92]\n"
     ]
    },
    {
     "name": "stderr",
     "output_type": "stream",
     "text": [
      "/Users/voglab04/anaconda3/lib/python3.6/site-packages/sklearn/preprocessing/data.py:350: RuntimeWarning: overflow encountered in true_divide\n",
      "  _handle_zeros_in_scale(data_range))\n",
      "/Users/voglab04/anaconda3/lib/python3.6/site-packages/sklearn/preprocessing/data.py:351: RuntimeWarning: invalid value encountered in multiply\n",
      "  self.min_ = feature_range[0] - data_min * self.scale_\n",
      "/Users/voglab04/anaconda3/lib/python3.6/site-packages/sklearn/preprocessing/data.py:369: RuntimeWarning: invalid value encountered in multiply\n",
      "  X *= self.scale_\n"
     ]
    },
    {
     "ename": "ValueError",
     "evalue": "Input contains NaN, infinity or a value too large for dtype('float32').",
     "output_type": "error",
     "traceback": [
      "\u001b[0;31m---------------------------------------------------------------------------\u001b[0m",
      "\u001b[0;31mValueError\u001b[0m                                Traceback (most recent call last)",
      "\u001b[0;32m<ipython-input-38-6aaa528ab4ac>\u001b[0m in \u001b[0;36m<module>\u001b[0;34m()\u001b[0m\n\u001b[1;32m     16\u001b[0m     \u001b[0mX_test_scaled\u001b[0m \u001b[0;34m=\u001b[0m \u001b[0mscaler\u001b[0m\u001b[0;34m.\u001b[0m\u001b[0mtransform\u001b[0m\u001b[0;34m(\u001b[0m\u001b[0mX_test\u001b[0m\u001b[0;34m)\u001b[0m\u001b[0;34m\u001b[0m\u001b[0;34m\u001b[0m\u001b[0m\n\u001b[1;32m     17\u001b[0m     \u001b[0mrf\u001b[0m \u001b[0;34m=\u001b[0m \u001b[0mRandomForestRegressor\u001b[0m\u001b[0;34m(\u001b[0m\u001b[0mrandom_state\u001b[0m \u001b[0;34m=\u001b[0m \u001b[0;36m42\u001b[0m\u001b[0;34m)\u001b[0m\u001b[0;34m\u001b[0m\u001b[0;34m\u001b[0m\u001b[0m\n\u001b[0;32m---> 18\u001b[0;31m     \u001b[0mrf\u001b[0m\u001b[0;34m.\u001b[0m\u001b[0mfit\u001b[0m\u001b[0;34m(\u001b[0m\u001b[0mX_train_scaled\u001b[0m\u001b[0;34m,\u001b[0m \u001b[0my_train\u001b[0m\u001b[0;34m)\u001b[0m\u001b[0;34m\u001b[0m\u001b[0;34m\u001b[0m\u001b[0m\n\u001b[0m\u001b[1;32m     19\u001b[0m     \u001b[0merror\u001b[0m\u001b[0;34m=\u001b[0m\u001b[0mrmse\u001b[0m\u001b[0;34m(\u001b[0m\u001b[0mrf\u001b[0m\u001b[0;34m.\u001b[0m\u001b[0mpredict\u001b[0m\u001b[0;34m(\u001b[0m\u001b[0mX_test_scaled\u001b[0m\u001b[0;34m)\u001b[0m\u001b[0;34m,\u001b[0m\u001b[0my_test\u001b[0m\u001b[0;34m)\u001b[0m\u001b[0;34m\u001b[0m\u001b[0;34m\u001b[0m\u001b[0m\n\u001b[1;32m     20\u001b[0m     \u001b[0merrorlist\u001b[0m\u001b[0;34m.\u001b[0m\u001b[0mappend\u001b[0m\u001b[0;34m(\u001b[0m\u001b[0merror\u001b[0m\u001b[0;34m)\u001b[0m\u001b[0;34m\u001b[0m\u001b[0;34m\u001b[0m\u001b[0m\n",
      "\u001b[0;32m~/anaconda3/lib/python3.6/site-packages/sklearn/ensemble/forest.py\u001b[0m in \u001b[0;36mfit\u001b[0;34m(self, X, y, sample_weight)\u001b[0m\n\u001b[1;32m    244\u001b[0m         \"\"\"\n\u001b[1;32m    245\u001b[0m         \u001b[0;31m# Validate or convert input data\u001b[0m\u001b[0;34m\u001b[0m\u001b[0;34m\u001b[0m\u001b[0;34m\u001b[0m\u001b[0m\n\u001b[0;32m--> 246\u001b[0;31m         \u001b[0mX\u001b[0m \u001b[0;34m=\u001b[0m \u001b[0mcheck_array\u001b[0m\u001b[0;34m(\u001b[0m\u001b[0mX\u001b[0m\u001b[0;34m,\u001b[0m \u001b[0maccept_sparse\u001b[0m\u001b[0;34m=\u001b[0m\u001b[0;34m\"csc\"\u001b[0m\u001b[0;34m,\u001b[0m \u001b[0mdtype\u001b[0m\u001b[0;34m=\u001b[0m\u001b[0mDTYPE\u001b[0m\u001b[0;34m)\u001b[0m\u001b[0;34m\u001b[0m\u001b[0;34m\u001b[0m\u001b[0m\n\u001b[0m\u001b[1;32m    247\u001b[0m         \u001b[0my\u001b[0m \u001b[0;34m=\u001b[0m \u001b[0mcheck_array\u001b[0m\u001b[0;34m(\u001b[0m\u001b[0my\u001b[0m\u001b[0;34m,\u001b[0m \u001b[0maccept_sparse\u001b[0m\u001b[0;34m=\u001b[0m\u001b[0;34m'csc'\u001b[0m\u001b[0;34m,\u001b[0m \u001b[0mensure_2d\u001b[0m\u001b[0;34m=\u001b[0m\u001b[0;32mFalse\u001b[0m\u001b[0;34m,\u001b[0m \u001b[0mdtype\u001b[0m\u001b[0;34m=\u001b[0m\u001b[0;32mNone\u001b[0m\u001b[0;34m)\u001b[0m\u001b[0;34m\u001b[0m\u001b[0;34m\u001b[0m\u001b[0m\n\u001b[1;32m    248\u001b[0m         \u001b[0;32mif\u001b[0m \u001b[0msample_weight\u001b[0m \u001b[0;32mis\u001b[0m \u001b[0;32mnot\u001b[0m \u001b[0;32mNone\u001b[0m\u001b[0;34m:\u001b[0m\u001b[0;34m\u001b[0m\u001b[0;34m\u001b[0m\u001b[0m\n",
      "\u001b[0;32m~/anaconda3/lib/python3.6/site-packages/sklearn/utils/validation.py\u001b[0m in \u001b[0;36mcheck_array\u001b[0;34m(array, accept_sparse, dtype, order, copy, force_all_finite, ensure_2d, allow_nd, ensure_min_samples, ensure_min_features, warn_on_dtype, estimator)\u001b[0m\n\u001b[1;32m    420\u001b[0m                              % (array.ndim, estimator_name))\n\u001b[1;32m    421\u001b[0m         \u001b[0;32mif\u001b[0m \u001b[0mforce_all_finite\u001b[0m\u001b[0;34m:\u001b[0m\u001b[0;34m\u001b[0m\u001b[0;34m\u001b[0m\u001b[0m\n\u001b[0;32m--> 422\u001b[0;31m             \u001b[0m_assert_all_finite\u001b[0m\u001b[0;34m(\u001b[0m\u001b[0marray\u001b[0m\u001b[0;34m)\u001b[0m\u001b[0;34m\u001b[0m\u001b[0;34m\u001b[0m\u001b[0m\n\u001b[0m\u001b[1;32m    423\u001b[0m \u001b[0;34m\u001b[0m\u001b[0m\n\u001b[1;32m    424\u001b[0m     \u001b[0mshape_repr\u001b[0m \u001b[0;34m=\u001b[0m \u001b[0m_shape_repr\u001b[0m\u001b[0;34m(\u001b[0m\u001b[0marray\u001b[0m\u001b[0;34m.\u001b[0m\u001b[0mshape\u001b[0m\u001b[0;34m)\u001b[0m\u001b[0;34m\u001b[0m\u001b[0;34m\u001b[0m\u001b[0m\n",
      "\u001b[0;32m~/anaconda3/lib/python3.6/site-packages/sklearn/utils/validation.py\u001b[0m in \u001b[0;36m_assert_all_finite\u001b[0;34m(X)\u001b[0m\n\u001b[1;32m     41\u001b[0m             and not np.isfinite(X).all()):\n\u001b[1;32m     42\u001b[0m         raise ValueError(\"Input contains NaN, infinity\"\n\u001b[0;32m---> 43\u001b[0;31m                          \" or a value too large for %r.\" % X.dtype)\n\u001b[0m\u001b[1;32m     44\u001b[0m \u001b[0;34m\u001b[0m\u001b[0m\n\u001b[1;32m     45\u001b[0m \u001b[0;34m\u001b[0m\u001b[0m\n",
      "\u001b[0;31mValueError\u001b[0m: Input contains NaN, infinity or a value too large for dtype('float32')."
     ]
    }
   ],
   "source": [
    "def rmse(predictions, targets):\n",
    "    return np.sqrt(((predictions - targets) ** 2).mean())\n",
    "from sklearn.model_selection import KFold\n",
    "from sklearn.ensemble import RandomForestRegressor\n",
    "kf = KFold(n_splits=10, random_state=12, shuffle=True)\n",
    "kf.get_n_splits(X)\n",
    "print (kf)\n",
    "errorlist=list()\n",
    "for train_index, test_index in kf.split(X):\n",
    "    print(\"TRAIN:\", train_index, \"TEST:\", test_index)\n",
    "    X_train, X_test = X[train_index], X[test_index]\n",
    "    y_train, y_test = y[train_index], y[test_index]\n",
    "    \n",
    "    scaler = MinMaxScaler().fit(X_train)\n",
    "    X_train_scaled = scaler.transform(X_train)\n",
    "    X_test_scaled = scaler.transform(X_test)\n",
    "    rf = RandomForestRegressor(random_state = 42)\n",
    "    rf.fit(X_train_scaled, y_train)\n",
    "    error=rmse(rf.predict(X_test_scaled),y_test)\n",
    "    errorlist.append(error)\n",
    "\n"
   ]
  },
  {
   "cell_type": "code",
   "execution_count": null,
   "metadata": {
    "collapsed": true
   },
   "outputs": [],
   "source": []
  }
 ],
 "metadata": {
  "kernelspec": {
   "display_name": "Python 3",
   "language": "python",
   "name": "python3"
  },
  "language_info": {
   "codemirror_mode": {
    "name": "ipython",
    "version": 3
   },
   "file_extension": ".py",
   "mimetype": "text/x-python",
   "name": "python",
   "nbconvert_exporter": "python",
   "pygments_lexer": "ipython3",
   "version": "3.6.8"
  }
 },
 "nbformat": 4,
 "nbformat_minor": 2
}
