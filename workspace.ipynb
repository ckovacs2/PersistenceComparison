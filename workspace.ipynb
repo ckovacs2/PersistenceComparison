{
 "cells": [
  {
   "cell_type": "code",
   "execution_count": 78,
   "metadata": {},
   "outputs": [],
   "source": [
    "from ripser import Rips\n",
    "import numpy as np\n",
    "import matplotlib.pyplot as plt\n",
    "from utils import read_xyz_file\n",
    "from persim import PersistenceImager\n",
    "from persim.landscapes import PersistenceLandscaper\n",
    "import matplotlib as mpl\n",
    "mpl.rcParams.update(mpl.rcParamsDefault)\n"
   ]
  },
  {
   "cell_type": "code",
   "execution_count": 79,
   "metadata": {},
   "outputs": [
    {
     "data": {
      "text/plain": [
       "[array([[0.        , 1.08383811],\n",
       "        [0.        , 1.08413517],\n",
       "        [0.        , 1.08601999],\n",
       "        [0.        , 1.08613777],\n",
       "        [0.        , 1.08624721],\n",
       "        [0.        , 1.35073745],\n",
       "        [0.        , 1.35105014],\n",
       "        [0.        , 1.38580394],\n",
       "        [0.        , 1.38584685],\n",
       "        [0.        , 1.3907901 ],\n",
       "        [0.        ,        inf]]),\n",
       " array([[1.39112115, 2.38308406]]),\n",
       " array([[2.41417909, 2.72745872]])]"
      ]
     },
     "execution_count": 79,
     "metadata": {},
     "output_type": "execute_result"
    }
   ],
   "source": [
    "temp = read_xyz_file(\"/workspaces/PersistenceComparison/xyz_data/babel/1.xyz\")\n",
    "rc = RipsComplex(temp[[\"x\", 'y', 'z']].values)\n",
    "rc.diag\n"
   ]
  },
  {
   "cell_type": "code",
   "execution_count": 134,
   "metadata": {},
   "outputs": [],
   "source": [
    "class PersistentImage:\n",
    "  def __init__(self, rips_complex, pixel_size:int = 0.1, image_size: tuple[int, int] = (20, 20)):\n",
    "    self._pixel_size = pixel_size\n",
    "    self._diags = rips_complex.diag\n",
    "    self._hm_classes = len(self._diags)\n",
    "    self.nx, self.ny = image_size\n",
    "    self._xs = np.arange(0, self.nx)\n",
    "    self._ys = np.arange(0, self.ny)\n",
    "    self.images = self._get_images()\n",
    "\n",
    "  def _get_images(self):\n",
    "    images = {}\n",
    "    for hm in range(self._hm_classes):\n",
    "      hm_data = self._diags[hm]\n",
    "\n",
    "      # convert to persistence lifetime\n",
    "      hm_data[:, 1] -= hm_data[:, 0]\n",
    "\n",
    "      # sum the smoothing kernel times weighting function\n",
    "      pers_surface = []\n",
    "      num_rows = hm_data.shape[0]\n",
    "      for i in range(num_rows):\n",
    "        b, p = hm_data[i, 0], hm_data[i,1]\n",
    "        temp = np.zeros((self.nx, self.ny))\n",
    "        for x in self._xs:\n",
    "          for y in self._ys:\n",
    "            temp[x,y] = self._gaussian_kernel(x,y, b, p) * self._weighting(b, p)\n",
    "        pers_surface.append(temp)\n",
    "      pers_surface = np.sum(np.array(pers_surface), axis = 0)\n",
    "\n",
    "      # add integration\n",
    "      \n",
    "      images[hm] = pers_surface\n",
    "    return images\n",
    "  \n",
    "  def _gaussian_kernel(self, x, y, b, p, sigma: float = 1):\n",
    "    return (1/(2 * np.pi * sigma ** 2)) * np.exp(-1 * ((x - b)**2 + (y-p)**2)/(2*sigma**2))\n",
    "  \n",
    "  def _weighting(self, b, p):\n",
    "    if p <= 0:\n",
    "      return 0\n",
    "    elif 0 < p < b:\n",
    "      return p/b \n",
    "    else:\n",
    "      return 1\n",
    "\n",
    "  def featurize(self):\n",
    "    return {hm: self.images[hm].flatten() for hm in range(self._hm_classes)}\n",
    "    \n",
    "  def plot(self, hm_class:int = 0):\n",
    "    hm_images = self.images[hm_class]\n",
    "    print(hm_images)\n",
    "    num_images = len(hm_images)\n",
    "    fig, axs = plt.subplots(1, num_images, figsize = (12, 8))\n",
    "    for i in range(num_images):\n",
    "      self.pimgr.plot_image(hm_images[i], axs[i])\n",
    "\n",
    "    plt.show()"
   ]
  },
  {
   "cell_type": "code",
   "execution_count": 141,
   "metadata": {},
   "outputs": [
    {
     "data": {
      "image/png": "[encoded data removed]",
      "text/plain": [
       "<Figure size 640x480 with 1 Axes>"
      ]
     },
     "metadata": {},
     "output_type": "display_data"
    }
   ],
   "source": [
    "temp = PersistentImage(rc)\n",
    "plt.imshow(temp.images[0], aspect='auto')\n",
    "plt.show()"
   ]
  },
  {
   "cell_type": "code",
   "execution_count": null,
   "metadata": {},
   "outputs": [],
   "source": []
  }
 ],
 "metadata": {
  "kernelspec": {
   "display_name": "Python 3",
   "language": "python",
   "name": "python3"
  },
  "language_info": {
   "codemirror_mode": {
    "name": "ipython",
    "version": 3
   },
   "file_extension": ".py",
   "mimetype": "text/x-python",
   "name": "python",
   "nbconvert_exporter": "python",
   "pygments_lexer": "ipython3",
   "version": "3.10.13"
  }
 },
 "nbformat": 4,
 "nbformat_minor": 2
}
